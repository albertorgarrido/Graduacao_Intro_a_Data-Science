{
  "nbformat": 4,
  "nbformat_minor": 0,
  "metadata": {
    "colab": {
      "name": "Aula-1-Apresentação do Curso.ipynb",
      "provenance": [],
      "collapsed_sections": []
    },
    "kernelspec": {
      "display_name": "Python 3",
      "language": "python",
      "name": "python3"
    },
    "language_info": {
      "codemirror_mode": {
        "name": "ipython",
        "version": 3
      },
      "file_extension": ".py",
      "mimetype": "text/x-python",
      "name": "python",
      "nbconvert_exporter": "python",
      "pygments_lexer": "ipython3",
      "version": "3.7.6"
    }
  },
  "cells": [
    {
      "cell_type": "markdown",
      "metadata": {
        "colab_type": "text",
        "id": "3x1QH2-iO9bL"
      },
      "source": [
        "FGV EPGE - Escola de Pós-graduação em Economia\n",
        "==\n",
        "Introdução à Ciência dos Dados em Economia com o Python\n",
        "--\n",
        "Professor: Rafael Martins de Souza\n",
        "--\n",
        "Monitor: Pedro Medeiros Teixeira"
      ]
    },
    {
      "cell_type": "markdown",
      "metadata": {
        "colab_type": "text",
        "id": "ZR_0tO0PO9bN"
      },
      "source": [
        "# Visão geral\n",
        "\n",
        "## Objetivo do curso\n",
        "\n",
        "Habilitar o aluno da graduação em Economia FGV EPGE a utilizar o Python para usar Ciência de Dados na resolução de problemas econômicos.\n",
        "\n",
        "## Ementa do curso\n",
        "\n",
        "Instalação em computador pessoal, uso do Google Colab, básico de jupyter notebook, estrutura de dados em Python, condicionais, loops, funções, Numpy, Matplotlib, Seaborn, Plotly e Altair, Pandas, aplicações com dados geospaciais, aplicações em Estatística, aplicações em séries temporais, aplicações de Machine Learning."
      ]
    },
    {
      "cell_type": "markdown",
      "metadata": {
        "colab_type": "text",
        "id": "cT6LffDknx3S"
      },
      "source": [
        "# Aula 1\n",
        "\n",
        "- Básico Colab\n",
        "\n",
        "- Stackoverflow\n",
        "- Apresentação da Turma\n",
        "- Variáveis e operações básicas"
      ]
    },
    {
      "cell_type": "markdown",
      "metadata": {
        "colab_type": "text",
        "id": "gqXTcbCVq8KK"
      },
      "source": [
        "\n",
        "## *Básico Colab*\n",
        "\n",
        "- Células: pode ser código ou texto <br>\n",
        "\n",
        "### Texto\n",
        "\n",
        "- \\# Define o tamanho do texto <br>\n",
        "- Pula linha <br>\n",
        "- **Negrito** e *Itálico*\n",
        "\n",
        "<br> \n",
        "\n",
        "### Atalhos Colab: <br>\n",
        "\n",
        "<br>\n",
        "\n",
        "1) **Esc**: Sai da célula <br>\n",
        "2) **A**: Cria uma célula em cima <br>\n",
        "3) **B**: Cria uma célula embaixo <br>\n",
        "4) **Ctrl/Cmd+M+M**: Transforma célula de código em *markdown* <br>\n",
        "5) **Ctrl/Cmd+M+Y**: Transform célula de *markdown* em código <br>\n",
        "6) **Esc + F**: Localiza e Substitui <br>\n",
        "7) **Shift** + $\\uparrow$ ou $\\downarrow$: Seleciona as células <br>\n",
        "8) **Shift + Enter**: Roda o código dentro da célula <br>\n",
        "9) **Ctrl/Cmd+M+D**: Deleta a célula <br>\n",
        "10) **Ctrl/Cmd+M+H**: Lista todos os atalhos! \n"
      ]
    },
    {
      "cell_type": "markdown",
      "metadata": {
        "colab_type": "text",
        "id": "mQqeKACkq8li"
      },
      "source": [
        "Ver com o Rafael!\n",
        "\n",
        "# Avaliação\n",
        "\n",
        "| Avaliação                    | Descrição  | Data                           |\n",
        "|------------------------------|------------|-------------------------------- |\n",
        "| Trabalho 1               | Descrição 1|xxx                               |\n",
        "| Trabalho 2                | Descrição 2  | xxx                            |\n",
        "| Listas para entregar               | Descrição 3   |   xxx                         |"
      ]
    },
    {
      "cell_type": "markdown",
      "metadata": {
        "id": "IY9kKdJfDIP9",
        "colab_type": "text"
      },
      "source": [
        "### Tipos Numéricos:\n",
        "\n",
        "- int; \n",
        "- float;\n",
        "- complex **[Não será abordado]**.  "
      ]
    },
    {
      "cell_type": "markdown",
      "metadata": {
        "id": "bF3-z6gvDIP-",
        "colab_type": "text"
      },
      "source": [
        "Criando variáveis"
      ]
    },
    {
      "cell_type": "code",
      "metadata": {
        "id": "fYOMshnHDIP-",
        "colab_type": "code",
        "colab": {}
      },
      "source": [
        "a = 5"
      ],
      "execution_count": null,
      "outputs": []
    },
    {
      "cell_type": "code",
      "metadata": {
        "id": "9TQXWYK0DIQD",
        "colab_type": "code",
        "colab": {}
      },
      "source": [
        "b = 2.7"
      ],
      "execution_count": null,
      "outputs": []
    },
    {
      "cell_type": "markdown",
      "metadata": {
        "id": "fEJLIZj9DIQF",
        "colab_type": "text"
      },
      "source": [
        "Identificando qual é o tipo do objeto"
      ]
    },
    {
      "cell_type": "code",
      "metadata": {
        "scrolled": true,
        "id": "04hBuohUDIQG",
        "colab_type": "code",
        "colab": {},
        "outputId": "2a76ebcd-ff5e-4b66-8aa4-f5ba77f3b6f9"
      },
      "source": [
        "type(a)"
      ],
      "execution_count": null,
      "outputs": [
        {
          "output_type": "execute_result",
          "data": {
            "text/plain": [
              "int"
            ]
          },
          "metadata": {
            "tags": []
          },
          "execution_count": 17
        }
      ]
    },
    {
      "cell_type": "code",
      "metadata": {
        "id": "b_OnXg01DIQJ",
        "colab_type": "code",
        "colab": {},
        "outputId": "f35f2f18-a84c-4275-b917-522c3eccb053"
      },
      "source": [
        "type(b)"
      ],
      "execution_count": null,
      "outputs": [
        {
          "output_type": "execute_result",
          "data": {
            "text/plain": [
              "float"
            ]
          },
          "metadata": {
            "tags": []
          },
          "execution_count": 18
        }
      ]
    },
    {
      "cell_type": "markdown",
      "metadata": {
        "id": "xM9VYcPUDIQM",
        "colab_type": "text"
      },
      "source": [
        "Atribuindo mais de um objeto"
      ]
    },
    {
      "cell_type": "code",
      "metadata": {
        "id": "rZei6ZCKDIQM",
        "colab_type": "code",
        "colab": {}
      },
      "source": [
        "a1, b1 = 3,2"
      ],
      "execution_count": null,
      "outputs": []
    },
    {
      "cell_type": "code",
      "metadata": {
        "id": "PM1fnxRtDIQP",
        "colab_type": "code",
        "colab": {},
        "outputId": "1b91b2c5-5fa6-47ca-9aa1-e7e2436ff70d"
      },
      "source": [
        "print(a1, b1)"
      ],
      "execution_count": null,
      "outputs": [
        {
          "output_type": "stream",
          "text": [
            "3 2\n"
          ],
          "name": "stdout"
        }
      ]
    },
    {
      "cell_type": "markdown",
      "metadata": {
        "id": "1BbXFjeGDIQT",
        "colab_type": "text"
      },
      "source": [
        "#### Operações com tipos numéricos:"
      ]
    },
    {
      "cell_type": "code",
      "metadata": {
        "id": "BzEelbXoDIQT",
        "colab_type": "code",
        "colab": {},
        "outputId": "168423ec-6439-4b0c-9c7b-bf0da75912a0"
      },
      "source": [
        "a"
      ],
      "execution_count": null,
      "outputs": [
        {
          "output_type": "execute_result",
          "data": {
            "text/plain": [
              "5"
            ]
          },
          "metadata": {
            "tags": []
          },
          "execution_count": 21
        }
      ]
    },
    {
      "cell_type": "code",
      "metadata": {
        "id": "GGjCPQIFDIQW",
        "colab_type": "code",
        "colab": {},
        "outputId": "1ea3bc9e-fe9d-4c34-f5a0-7535976f2e41"
      },
      "source": [
        "b"
      ],
      "execution_count": null,
      "outputs": [
        {
          "output_type": "execute_result",
          "data": {
            "text/plain": [
              "2.7"
            ]
          },
          "metadata": {
            "tags": []
          },
          "execution_count": 22
        }
      ]
    },
    {
      "cell_type": "code",
      "metadata": {
        "id": "e-ERdRWBDIQY",
        "colab_type": "code",
        "colab": {},
        "outputId": "12059f57-7fda-4767-92b0-c9a0e242d142"
      },
      "source": [
        "print(a + b) # Soma.\n",
        "print(a - b) # Subtração.\n",
        "print(a * b) # Multiplicação.\n",
        "print(34 / 23) # Divisão.\n",
        "print(3 ** 5) # Exponenciação.\n",
        "print(9 ** 0.5) # Radiciação.\n",
        "print(501 % 10) # resto da divisão"
      ],
      "execution_count": null,
      "outputs": [
        {
          "output_type": "stream",
          "text": [
            "7.7\n",
            "2.3\n",
            "13.5\n",
            "1.4782608695652173\n",
            "243\n",
            "3.0\n",
            "1\n"
          ],
          "name": "stdout"
        }
      ]
    },
    {
      "cell_type": "markdown",
      "metadata": {
        "id": "R9Scho5tDIQa",
        "colab_type": "text"
      },
      "source": [
        "#### Checagens simples"
      ]
    },
    {
      "cell_type": "code",
      "metadata": {
        "id": "yMgIu5z1DIQb",
        "colab_type": "code",
        "colab": {}
      },
      "source": [
        "a = 5\n",
        "b = 6"
      ],
      "execution_count": null,
      "outputs": []
    },
    {
      "cell_type": "code",
      "metadata": {
        "id": "n01BCHkaDIQe",
        "colab_type": "code",
        "colab": {},
        "outputId": "d799dc7d-cb87-43a7-dfeb-7126b1476d13"
      },
      "source": [
        "a > b"
      ],
      "execution_count": null,
      "outputs": [
        {
          "output_type": "execute_result",
          "data": {
            "text/plain": [
              "False"
            ]
          },
          "metadata": {
            "tags": []
          },
          "execution_count": 25
        }
      ]
    },
    {
      "cell_type": "code",
      "metadata": {
        "id": "SVyQA6fUDIQh",
        "colab_type": "code",
        "colab": {},
        "outputId": "2e1b40ad-4412-4cbc-9bae-116961288e58"
      },
      "source": [
        "a <= b"
      ],
      "execution_count": null,
      "outputs": [
        {
          "output_type": "execute_result",
          "data": {
            "text/plain": [
              "True"
            ]
          },
          "metadata": {
            "tags": []
          },
          "execution_count": 26
        }
      ]
    },
    {
      "cell_type": "code",
      "metadata": {
        "id": "3k3uTXM9DIQj",
        "colab_type": "code",
        "colab": {}
      },
      "source": [
        "c = 10\n",
        "d = 20/2"
      ],
      "execution_count": null,
      "outputs": []
    },
    {
      "cell_type": "code",
      "metadata": {
        "scrolled": false,
        "id": "_UOIpNcfDIQm",
        "colab_type": "code",
        "colab": {},
        "outputId": "fa572851-21f5-4bca-e82e-411086d1b20a"
      },
      "source": [
        "print(c)"
      ],
      "execution_count": null,
      "outputs": [
        {
          "output_type": "stream",
          "text": [
            "10\n"
          ],
          "name": "stdout"
        }
      ]
    },
    {
      "cell_type": "code",
      "metadata": {
        "id": "37rw3P8UDIQo",
        "colab_type": "code",
        "colab": {},
        "outputId": "30d86c87-ecd6-45a9-c276-763fa0a288c7"
      },
      "source": [
        "print(d)"
      ],
      "execution_count": null,
      "outputs": [
        {
          "output_type": "stream",
          "text": [
            "10.0\n"
          ],
          "name": "stdout"
        }
      ]
    },
    {
      "cell_type": "markdown",
      "metadata": {
        "id": "uZC4Tt_hDIQv",
        "colab_type": "text"
      },
      "source": [
        "Booleano"
      ]
    },
    {
      "cell_type": "code",
      "metadata": {
        "scrolled": true,
        "id": "UMA8xrdbDIQx",
        "colab_type": "code",
        "colab": {},
        "outputId": "95a3f1bd-9626-408b-c827-086ebc49c4b6"
      },
      "source": [
        "c == d"
      ],
      "execution_count": null,
      "outputs": [
        {
          "output_type": "execute_result",
          "data": {
            "text/plain": [
              "True"
            ]
          },
          "metadata": {
            "tags": []
          },
          "execution_count": 30
        }
      ]
    },
    {
      "cell_type": "markdown",
      "metadata": {
        "id": "AmohX5GpDIQz",
        "colab_type": "text"
      },
      "source": [
        "Não confundir '=' com '=='"
      ]
    },
    {
      "cell_type": "code",
      "metadata": {
        "id": "ytdmh2V9DIQ0",
        "colab_type": "code",
        "colab": {},
        "outputId": "351e593b-7695-4867-ca17-cb34e302e3c5"
      },
      "source": [
        "a != c"
      ],
      "execution_count": null,
      "outputs": [
        {
          "output_type": "execute_result",
          "data": {
            "text/plain": [
              "True"
            ]
          },
          "metadata": {
            "tags": []
          },
          "execution_count": 31
        }
      ]
    },
    {
      "cell_type": "code",
      "metadata": {
        "id": "9bNlpeYTDIQ1",
        "colab_type": "code",
        "colab": {}
      },
      "source": [
        "a = 5.3"
      ],
      "execution_count": null,
      "outputs": []
    },
    {
      "cell_type": "code",
      "metadata": {
        "id": "PvCPe8jQDIQ3",
        "colab_type": "code",
        "colab": {},
        "outputId": "96f4fe79-7514-499b-933d-4e093fc463f4"
      },
      "source": [
        "type(a)"
      ],
      "execution_count": null,
      "outputs": [
        {
          "output_type": "execute_result",
          "data": {
            "text/plain": [
              "float"
            ]
          },
          "metadata": {
            "tags": []
          },
          "execution_count": 33
        }
      ]
    },
    {
      "cell_type": "code",
      "metadata": {
        "id": "qSIN7FniDIQ4",
        "colab_type": "code",
        "colab": {}
      },
      "source": [
        "b = int(a)"
      ],
      "execution_count": null,
      "outputs": []
    },
    {
      "cell_type": "code",
      "metadata": {
        "scrolled": true,
        "id": "Mpno9nG9DIQ6",
        "colab_type": "code",
        "colab": {},
        "outputId": "08de426a-3eac-4d31-db3c-274ed0a4e526"
      },
      "source": [
        "b"
      ],
      "execution_count": null,
      "outputs": [
        {
          "output_type": "execute_result",
          "data": {
            "text/plain": [
              "5"
            ]
          },
          "metadata": {
            "tags": []
          },
          "execution_count": 35
        }
      ]
    }
  ]
}