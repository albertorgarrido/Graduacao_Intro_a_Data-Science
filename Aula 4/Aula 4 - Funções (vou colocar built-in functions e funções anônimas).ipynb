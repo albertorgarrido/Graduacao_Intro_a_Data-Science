{
 "cells": [
  {
   "cell_type": "markdown",
   "metadata": {
    "colab_type": "text",
    "id": "3x1QH2-iO9bL"
   },
   "source": [
    "FGV EPGE - Escola de Pós-graduação em Economia\n",
    "==\n",
    "Introdução à Ciência dos Dados em Economia com o Python\n",
    "--\n",
    "Professor: Rafael Martins de Souza\n",
    "--\n",
    "Monitor: Pedro Medeiros Teixeira"
   ]
  },
  {
   "cell_type": "markdown",
   "metadata": {},
   "source": [
    "##  Funções"
   ]
  },
  {
   "cell_type": "code",
   "execution_count": 70,
   "metadata": {},
   "outputs": [],
   "source": [
    "def olá1():\n",
    "    print('olá')"
   ]
  },
  {
   "cell_type": "code",
   "execution_count": 71,
   "metadata": {},
   "outputs": [
    {
     "name": "stdout",
     "output_type": "stream",
     "text": [
      "olá\n"
     ]
    }
   ],
   "source": [
    "olá1()"
   ]
  },
  {
   "cell_type": "markdown",
   "metadata": {},
   "source": [
    "Só printando não cria o objeto desejado"
   ]
  },
  {
   "cell_type": "code",
   "execution_count": 72,
   "metadata": {},
   "outputs": [
    {
     "name": "stdout",
     "output_type": "stream",
     "text": [
      "olá\n"
     ]
    }
   ],
   "source": [
    "x = olá1()"
   ]
  },
  {
   "cell_type": "code",
   "execution_count": 73,
   "metadata": {},
   "outputs": [
    {
     "data": {
      "text/plain": [
       "NoneType"
      ]
     },
     "execution_count": 73,
     "metadata": {},
     "output_type": "execute_result"
    }
   ],
   "source": [
    "type(x)"
   ]
  },
  {
   "cell_type": "markdown",
   "metadata": {},
   "source": [
    "Em funções usamos o \"return\""
   ]
  },
  {
   "cell_type": "code",
   "execution_count": 74,
   "metadata": {},
   "outputs": [],
   "source": [
    "def olá2():\n",
    "    string = 'olá'\n",
    "    return string"
   ]
  },
  {
   "cell_type": "code",
   "execution_count": 75,
   "metadata": {},
   "outputs": [],
   "source": [
    "x = olá2()"
   ]
  },
  {
   "cell_type": "code",
   "execution_count": 76,
   "metadata": {},
   "outputs": [
    {
     "data": {
      "text/plain": [
       "'olá'"
      ]
     },
     "execution_count": 76,
     "metadata": {},
     "output_type": "execute_result"
    }
   ],
   "source": [
    "x"
   ]
  },
  {
   "cell_type": "markdown",
   "metadata": {},
   "source": [
    "Função de soma entre 2 números"
   ]
  },
  {
   "cell_type": "code",
   "execution_count": 78,
   "metadata": {},
   "outputs": [],
   "source": [
    "def soma(float1,float2):\n",
    "    if type(float1)==str or type(float2) == str:\n",
    "        print('Warning: Os argumentos são do tipo errado')\n",
    "    return float1+float2"
   ]
  },
  {
   "cell_type": "markdown",
   "metadata": {},
   "source": [
    "Como criar uma soma com vários números (ou, como criar uma função que aceite um número infinito de argumentos)?\n",
    "\n",
    "**\\*args** (argumentos) gera uma tupla"
   ]
  },
  {
   "cell_type": "code",
   "execution_count": 79,
   "metadata": {},
   "outputs": [],
   "source": [
    "def soma2(*args):\n",
    "    print(type(args))\n",
    "    x = 0\n",
    "    for i in args:\n",
    "        x = x+i\n",
    "    return x"
   ]
  },
  {
   "cell_type": "markdown",
   "metadata": {},
   "source": [
    "**\\*\\*kwargs**: keywords arguments \n",
    "<br>\n",
    "Argumentos indefinidos - muito comuns em biblioteca de visualização **[Um pouco mais complexo]**"
   ]
  },
  {
   "cell_type": "code",
   "execution_count": 80,
   "metadata": {},
   "outputs": [],
   "source": [
    "dict_random = {'key1':'value1', 'key2':'value2'}"
   ]
  },
  {
   "cell_type": "code",
   "execution_count": 81,
   "metadata": {},
   "outputs": [
    {
     "data": {
      "text/plain": [
       "dict_items([('key1', 'value1'), ('key2', 'value2')])"
      ]
     },
     "execution_count": 81,
     "metadata": {},
     "output_type": "execute_result"
    }
   ],
   "source": [
    "dict_random.items()"
   ]
  },
  {
   "cell_type": "code",
   "execution_count": 82,
   "metadata": {},
   "outputs": [],
   "source": [
    "def notas_mestrado(**kwargs):\n",
    "    for chave, valor in kwargs.items():\n",
    "        print('A chave é {} e o valor é {}'.format(chave,valor))\n",
    "        \n",
    "    if 'Macroeconomia' in kwargs:\n",
    "        print('A nota de Macroeconomia é {}'.format(kwargs['Macroeconomia']))\n",
    "    else:\n",
    "        print('Não foi passada a nota de Macroeconomia')"
   ]
  },
  {
   "cell_type": "code",
   "execution_count": 83,
   "metadata": {},
   "outputs": [
    {
     "name": "stdout",
     "output_type": "stream",
     "text": [
      "A chave é Microeconomia e o valor é 9.5\n",
      "A chave é Econometria e o valor é 8\n",
      "A chave é Data_Science e o valor é 10\n",
      "Não foi passada a nota de Macroeconomia\n"
     ]
    }
   ],
   "source": [
    "notas_mestrado(Microeconomia=9.5, Econometria = 8, Data_Science = 10)"
   ]
  },
  {
   "cell_type": "markdown",
   "metadata": {},
   "source": [
    "#### Escopos em Python"
   ]
  },
  {
   "cell_type": "code",
   "execution_count": 2,
   "metadata": {},
   "outputs": [
    {
     "name": "stdout",
     "output_type": "stream",
     "text": [
      "local2\n",
      "local1\n",
      "global\n"
     ]
    }
   ],
   "source": [
    "x = 'global'\n",
    "def local1():\n",
    "    x = 'local1'\n",
    "    def local2():\n",
    "        x = 'local2'\n",
    "        print(x)\n",
    "    local2()    \n",
    "    print(x)\n",
    "local1()\n",
    "print(x)"
   ]
  },
  {
   "cell_type": "code",
   "execution_count": 10,
   "metadata": {},
   "outputs": [
    {
     "name": "stdout",
     "output_type": "stream",
     "text": [
      "global\n"
     ]
    }
   ],
   "source": [
    "x = 'global'\n",
    "def passagem(z):\n",
    "    x = 'local'\n",
    "    if type(z) == str:\n",
    "        print(z)\n",
    "    else:\n",
    "        print('o parâmetro deve ser do tipo string')\n",
    "\n",
    "passagem(x)"
   ]
  },
  {
   "cell_type": "markdown",
   "metadata": {},
   "source": [
    "## Exercício Aula 2\n",
    "\n",
    "Criar uma função que receba uma lista de números (float ou int) e retorne dizendo para cada elemento é negativo ou positivo **[use if]**"
   ]
  },
  {
   "cell_type": "code",
   "execution_count": 84,
   "metadata": {},
   "outputs": [],
   "source": [
    "def negativo_positivo(lista):\n",
    "    for i in lista:\n",
    "        if i<0:\n",
    "            print('{} é negativo'.format(i))\n",
    "        else:\n",
    "            print('{} é positivo'.format(i))"
   ]
  },
  {
   "cell_type": "code",
   "execution_count": 85,
   "metadata": {},
   "outputs": [],
   "source": [
    "def é_vogal(string):\n",
    "    all_vowels = 'aeiou'\n",
    "    booleano = string in all_vowels\n",
    "    return booleano"
   ]
  },
  {
   "cell_type": "code",
   "execution_count": 86,
   "metadata": {},
   "outputs": [],
   "source": [
    "def negativo_positivo_vogal_consoante(lista):\n",
    "    for i in lista:\n",
    "        if type(i) == int:\n",
    "            if i<0:\n",
    "                print('{} é negativo'.format(i))\n",
    "            else:\n",
    "                print('{} é positivo'.format(i))\n",
    "        elif type(i) == str:\n",
    "            if é_vogal(i[0]):\n",
    "                print('letra inicial da palavra {} é vogal'.format(i))\n",
    "            else:\n",
    "                print('letra inicial da palavra {} é consoante'.format(i))\n",
    "        else:\n",
    "            print('Ocorreu um erro no elemento {}'.format(i))"
   ]
  },
  {
   "cell_type": "code",
   "execution_count": 87,
   "metadata": {},
   "outputs": [
    {
     "name": "stdout",
     "output_type": "stream",
     "text": [
      "letra inicial da palavra abacate é vogal\n",
      "letra inicial da palavra b é consoante\n",
      "3 é positivo\n",
      "4 é positivo\n",
      "-1 é negativo\n",
      "-10 é negativo\n",
      "Deu zebra no elemento [1, 2, 3]\n"
     ]
    }
   ],
   "source": [
    "negativo_positivo_vogal_consoante(['abacate','b',3,4, -1, -10, [1,2,3]])"
   ]
  },
  {
   "cell_type": "markdown",
   "metadata": {},
   "source": [
    "# Exercícios"
   ]
  },
  {
   "cell_type": "markdown",
   "metadata": {},
   "source": [
    "1) Crie uma função que receba uma lista como argumentos e retorne a média"
   ]
  },
  {
   "cell_type": "code",
   "execution_count": 1,
   "metadata": {},
   "outputs": [],
   "source": [
    "def media(lista):\n",
    "    x = sum(lista)/len(lista)\n",
    "    return x"
   ]
  },
  {
   "cell_type": "markdown",
   "metadata": {},
   "source": [
    "2) Crie uma função que receba como argumento uma lista de nomes e identifique se o nome composto ou não, **[dica use um for e o atributo split() de strings]**"
   ]
  },
  {
   "cell_type": "code",
   "execution_count": 27,
   "metadata": {},
   "outputs": [],
   "source": [
    "def nomes_composto(lista):\n",
    "    for i in lista:\n",
    "        if len(i.split())>1:\n",
    "            print('Nome Composto')"
   ]
  },
  {
   "cell_type": "markdown",
   "metadata": {},
   "source": [
    "3) Crie uma função que receba um nome e retorne a primeira letra"
   ]
  },
  {
   "cell_type": "markdown",
   "metadata": {},
   "source": [
    "4) Crie uma função que receba um nome e retorne a última letra"
   ]
  },
  {
   "cell_type": "markdown",
   "metadata": {},
   "source": [
    "5) Crie uma função que tenha como argumentos os coeficientes de uma equação de 2ºgrau da forma  $y = ax^2+bx+c$ e retorne a solução. Printar \"Delta negativo\" caso o $\\Delta$ seja negativo."
   ]
  },
  {
   "cell_type": "markdown",
   "metadata": {},
   "source": [
    "# $\\frac{-b \\pm \\sqrt{b^2 - 4ac}}{2a}$"
   ]
  },
  {
   "cell_type": "code",
   "execution_count": null,
   "metadata": {},
   "outputs": [],
   "source": [
    "def bhaskara(a,b,c):\n",
    "    delta = (b**2)-4*a*c\n",
    "    if delta<0:\n",
    "        print('Delta negativo')\n",
    "    x1 = (-b + (delta)**(1/2))/2*a\n",
    "    x2 = (-b - (delta)**(1/2))/2*a\n",
    "    \n",
    "    return x1, x2"
   ]
  },
  {
   "cell_type": "markdown",
   "metadata": {},
   "source": [
    "6) Criar uma função que retorne um dicionário com preço da ação associado ao seu preço [Com base nessas 3 strings]"
   ]
  },
  {
   "cell_type": "code",
   "execution_count": 29,
   "metadata": {},
   "outputs": [],
   "source": [
    "frase_string = 'O preço-alvo da ação PETR4 é R$20,00'\n",
    "frase_string2 = 'Para a corretora XYZ a ação VVAR3 deve chegar a R$11,00 ao final do ano'\n",
    "frase_string3 = 'O consenso do mercado para a ação FLRY3 é um preço de R$23,00'"
   ]
  },
  {
   "cell_type": "code",
   "execution_count": 30,
   "metadata": {},
   "outputs": [
    {
     "data": {
      "text/plain": [
       "['O', 'preço-alvo', 'da', 'ação', 'PETR4', 'é', 'R$20,00']"
      ]
     },
     "execution_count": 30,
     "metadata": {},
     "output_type": "execute_result"
    }
   ],
   "source": [
    "frase_string.split()"
   ]
  },
  {
   "cell_type": "code",
   "execution_count": null,
   "metadata": {},
   "outputs": [],
   "source": [
    "def funcao_6(frase_string)\n",
    "\n",
    "    frase_lista = frase_string.split()\n",
    "    empresa = frase_lista[frase_lista.index('ação')+1]\n",
    "\n",
    "    for i in frase_lista:\n",
    "        if 'R$' in i:\n",
    "            preço = i\n",
    "\n",
    "    dicionario_preco_açao = {}\n",
    "    dicionario_preco_açao[empresa] = preço\n",
    "    \n",
    "    return dicionario_preco_açao"
   ]
  },
  {
   "cell_type": "markdown",
   "metadata": {},
   "source": [
    "Output desejado"
   ]
  },
  {
   "cell_type": "code",
   "execution_count": 137,
   "metadata": {},
   "outputs": [
    {
     "data": {
      "text/plain": [
       "{'PETR4': 'R$20,00', 'VVAR3': 'R$11,00', 'FLRY3': 'R$23,00'}"
      ]
     },
     "execution_count": 137,
     "metadata": {},
     "output_type": "execute_result"
    }
   ],
   "source": [
    "{'PETR4':'R$20,00', 'VVAR3':'R$11,00', 'FLRY3':'R$23,00'}"
   ]
  },
  {
   "cell_type": "markdown",
   "metadata": {},
   "source": [
    "7) Crie uma função que retorne o fatorial de um número. **[dica: use um for]**"
   ]
  },
  {
   "cell_type": "code",
   "execution_count": 32,
   "metadata": {},
   "outputs": [],
   "source": [
    "def fatorial(numero):\n",
    "    lista = []\n",
    "    n_fatorial = 1\n",
    "    for i in range(1,numero+1):\n",
    "        n_fatorial = i*n_fatorial\n",
    "    return n_fatorial "
   ]
  },
  {
   "cell_type": "code",
   "execution_count": 33,
   "metadata": {},
   "outputs": [
    {
     "data": {
      "text/plain": [
       "3628800"
      ]
     },
     "execution_count": 33,
     "metadata": {},
     "output_type": "execute_result"
    }
   ],
   "source": [
    "fatorial(10)"
   ]
  },
  {
   "cell_type": "code",
   "execution_count": null,
   "metadata": {},
   "outputs": [],
   "source": []
  }
 ],
 "metadata": {
  "kernelspec": {
   "display_name": "Python 3",
   "language": "python",
   "name": "python3"
  },
  "language_info": {
   "codemirror_mode": {
    "name": "ipython",
    "version": 3
   },
   "file_extension": ".py",
   "mimetype": "text/x-python",
   "name": "python",
   "nbconvert_exporter": "python",
   "pygments_lexer": "ipython3",
   "version": "3.7.6"
  }
 },
 "nbformat": 4,
 "nbformat_minor": 4
}
