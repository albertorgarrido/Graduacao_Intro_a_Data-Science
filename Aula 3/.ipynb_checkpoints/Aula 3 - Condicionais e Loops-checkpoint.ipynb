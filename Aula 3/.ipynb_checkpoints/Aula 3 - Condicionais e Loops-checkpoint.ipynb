{
 "cells": [
  {
   "cell_type": "markdown",
   "metadata": {
    "colab_type": "text",
    "id": "3x1QH2-iO9bL"
   },
   "source": [
    "FGV EPGE - Escola de Pós-graduação em Economia\n",
    "==\n",
    "Introdução à Ciência dos Dados em Economia com o Python\n",
    "--\n",
    "Professor: Rafael Martins de Souza\n",
    "--\n",
    "Monitor: Pedro Medeiros Teixeira"
   ]
  },
  {
   "cell_type": "markdown",
   "metadata": {},
   "source": [
    "### Range\n",
    "\n",
    "Range representa uma sequência imutável de números e é usado para fazer um número específico de loop nos loops. "
   ]
  },
  {
   "cell_type": "code",
   "execution_count": 2,
   "metadata": {
    "scrolled": true
   },
   "outputs": [
    {
     "data": {
      "text/plain": [
       "[0, 1, 2, 3, 4, 5, 6, 7, 8, 9]"
      ]
     },
     "execution_count": 2,
     "metadata": {},
     "output_type": "execute_result"
    }
   ],
   "source": [
    "list(range(10))"
   ]
  },
  {
   "cell_type": "markdown",
   "metadata": {},
   "source": [
    "O resultado gerado é uma lista que vai de 0 até o número dado como argumento: 1."
   ]
  },
  {
   "cell_type": "code",
   "execution_count": 40,
   "metadata": {},
   "outputs": [
    {
     "data": {
      "text/plain": [
       "[10, 11, 12]"
      ]
     },
     "execution_count": 40,
     "metadata": {},
     "output_type": "execute_result"
    }
   ],
   "source": [
    "list(range(10,13))"
   ]
  },
  {
   "cell_type": "code",
   "execution_count": 41,
   "metadata": {},
   "outputs": [
    {
     "data": {
      "text/plain": [
       "[-10, -9, -8, -7, -6, -5, -4, -3, -2, -1, 0, 1, 2, 3, 4, 5, 6, 7, 8, 9, 10, 11]"
      ]
     },
     "execution_count": 41,
     "metadata": {},
     "output_type": "execute_result"
    }
   ],
   "source": [
    "list(range(-10,12)) "
   ]
  },
  {
   "cell_type": "code",
   "execution_count": 42,
   "metadata": {},
   "outputs": [
    {
     "data": {
      "text/plain": [
       "[10, 15, 20, 25]"
      ]
     },
     "execution_count": 42,
     "metadata": {},
     "output_type": "execute_result"
    }
   ],
   "source": [
    "list(range(10,28,5))"
   ]
  },
  {
   "cell_type": "markdown",
   "metadata": {},
   "source": [
    "Nesse caso temos o intervalo definido. Dessa forma, o resultado gerado é uma lista que vai do primeiro número dado até o segundo - 1."
   ]
  },
  {
   "cell_type": "code",
   "execution_count": 43,
   "metadata": {},
   "outputs": [],
   "source": [
    "sequencia = range(10,40,2)"
   ]
  },
  {
   "cell_type": "markdown",
   "metadata": {},
   "source": [
    "Já nesse caso temos a estrutura composta por range(início do intervalo, fim do intervalo + 1, diferença entre um elemento e o próximo na sequência). Dessa forma temos que os elementos, no exemplo, são listados, de três em três, de 5 até 50."
   ]
  },
  {
   "cell_type": "code",
   "execution_count": 44,
   "metadata": {},
   "outputs": [
    {
     "data": {
      "text/plain": [
       "range(0, 282429536481)"
      ]
     },
     "execution_count": 44,
     "metadata": {},
     "output_type": "execute_result"
    }
   ],
   "source": [
    "range(9**12)"
   ]
  },
  {
   "cell_type": "code",
   "execution_count": 45,
   "metadata": {},
   "outputs": [
    {
     "data": {
      "text/plain": [
       "[0, -1, -2, -3, -4, -5, -6, -7, -8, -9]"
      ]
     },
     "execution_count": 45,
     "metadata": {},
     "output_type": "execute_result"
    }
   ],
   "source": [
    "list(range(0, -10, -1))"
   ]
  },
  {
   "cell_type": "markdown",
   "metadata": {},
   "source": [
    "## Condicionais e Loops"
   ]
  },
  {
   "cell_type": "markdown",
   "metadata": {},
   "source": [
    "### Loops:"
   ]
  },
  {
   "cell_type": "markdown",
   "metadata": {},
   "source": [
    " #### O comando \"for\":\n",
    "\n",
    "Executa uma seqüência de instruções várias vezes, até que o intervalo dado termine."
   ]
  },
  {
   "cell_type": "code",
   "execution_count": 46,
   "metadata": {},
   "outputs": [
    {
     "name": "stdout",
     "output_type": "stream",
     "text": [
      "2\n",
      "4\n",
      "6\n",
      "8\n",
      "10\n"
     ]
    }
   ],
   "source": [
    "for i in range(2,11,2):\n",
    "    print(i)"
   ]
  },
  {
   "cell_type": "code",
   "execution_count": 47,
   "metadata": {},
   "outputs": [
    {
     "name": "stdout",
     "output_type": "stream",
     "text": [
      "D\n",
      "a\n",
      "t\n",
      "a\n",
      " \n",
      "S\n",
      "c\n",
      "i\n",
      "e\n",
      "n\n",
      "c\n",
      "e\n"
     ]
    }
   ],
   "source": [
    "for letra in 'Data Science':\n",
    "    print(letra)"
   ]
  },
  {
   "cell_type": "code",
   "execution_count": 48,
   "metadata": {},
   "outputs": [
    {
     "name": "stdout",
     "output_type": "stream",
     "text": [
      "Data Science\n"
     ]
    }
   ],
   "source": [
    "for letra in ['Data Science']:\n",
    "    print(letra)"
   ]
  },
  {
   "cell_type": "markdown",
   "metadata": {},
   "source": [
    "Printar $x, x^2, x^3$"
   ]
  },
  {
   "cell_type": "code",
   "execution_count": 49,
   "metadata": {},
   "outputs": [
    {
     "name": "stdout",
     "output_type": "stream",
     "text": [
      "1 1 1\n",
      "4 16 64\n",
      "8 64 512\n",
      "9 81 729\n",
      "10 100 1000\n",
      "11 121 1331\n",
      "12 144 1728\n"
     ]
    }
   ],
   "source": [
    "for elemento in [1,4,8,9,10, 11, 12]:\n",
    "    print(elemento, elemento**2, elemento**3)"
   ]
  },
  {
   "cell_type": "markdown",
   "metadata": {},
   "source": [
    "Números divisíveis por 7"
   ]
  },
  {
   "cell_type": "code",
   "execution_count": 6,
   "metadata": {
    "collapsed": true
   },
   "outputs": [
    {
     "name": "stdout",
     "output_type": "stream",
     "text": [
      "O número 1 não é divisível por 7\n",
      "O número 2 não é divisível por 7\n",
      "O número 3 não é divisível por 7\n",
      "O número 4 não é divisível por 7\n",
      "O número 5 não é divisível por 7\n",
      "O número 6 não é divisível por 7\n",
      "7\n",
      "O número 8 não é divisível por 7\n",
      "O número 9 não é divisível por 7\n",
      "O número 10 não é divisível por 7\n",
      "O número 11 não é divisível por 7\n",
      "O número 12 não é divisível por 7\n",
      "O número 13 não é divisível por 7\n",
      "14\n",
      "O número 15 não é divisível por 7\n",
      "O número 16 não é divisível por 7\n",
      "O número 17 não é divisível por 7\n",
      "O número 18 não é divisível por 7\n",
      "O número 19 não é divisível por 7\n",
      "O número 20 não é divisível por 7\n",
      "21\n",
      "O número 22 não é divisível por 7\n",
      "O número 23 não é divisível por 7\n",
      "O número 24 não é divisível por 7\n",
      "O número 25 não é divisível por 7\n",
      "O número 26 não é divisível por 7\n",
      "O número 27 não é divisível por 7\n",
      "28\n",
      "O número 29 não é divisível por 7\n",
      "O número 30 não é divisível por 7\n",
      "O número 31 não é divisível por 7\n",
      "O número 32 não é divisível por 7\n",
      "O número 33 não é divisível por 7\n",
      "O número 34 não é divisível por 7\n",
      "35\n",
      "O número 36 não é divisível por 7\n",
      "O número 37 não é divisível por 7\n",
      "O número 38 não é divisível por 7\n",
      "O número 39 não é divisível por 7\n",
      "O número 40 não é divisível por 7\n",
      "O número 41 não é divisível por 7\n",
      "42\n",
      "O número 43 não é divisível por 7\n",
      "O número 44 não é divisível por 7\n",
      "O número 45 não é divisível por 7\n",
      "O número 46 não é divisível por 7\n",
      "O número 47 não é divisível por 7\n",
      "O número 48 não é divisível por 7\n",
      "49\n",
      "O número 50 não é divisível por 7\n",
      "O número 51 não é divisível por 7\n",
      "O número 52 não é divisível por 7\n",
      "O número 53 não é divisível por 7\n",
      "O número 54 não é divisível por 7\n",
      "O número 55 não é divisível por 7\n",
      "56\n",
      "O número 57 não é divisível por 7\n",
      "O número 58 não é divisível por 7\n",
      "O número 59 não é divisível por 7\n",
      "O número 60 não é divisível por 7\n",
      "O número 61 não é divisível por 7\n",
      "O número 62 não é divisível por 7\n",
      "63\n",
      "O número 64 não é divisível por 7\n",
      "O número 65 não é divisível por 7\n",
      "O número 66 não é divisível por 7\n",
      "O número 67 não é divisível por 7\n",
      "O número 68 não é divisível por 7\n",
      "O número 69 não é divisível por 7\n",
      "70\n",
      "O número 71 não é divisível por 7\n",
      "O número 72 não é divisível por 7\n",
      "O número 73 não é divisível por 7\n",
      "O número 74 não é divisível por 7\n",
      "O número 75 não é divisível por 7\n",
      "O número 76 não é divisível por 7\n",
      "77\n",
      "O número 78 não é divisível por 7\n",
      "O número 79 não é divisível por 7\n",
      "O número 80 não é divisível por 7\n",
      "O número 81 não é divisível por 7\n",
      "O número 82 não é divisível por 7\n",
      "O número 83 não é divisível por 7\n",
      "84\n",
      "O número 85 não é divisível por 7\n",
      "O número 86 não é divisível por 7\n",
      "O número 87 não é divisível por 7\n",
      "O número 88 não é divisível por 7\n",
      "O número 89 não é divisível por 7\n",
      "O número 90 não é divisível por 7\n",
      "91\n",
      "O número 92 não é divisível por 7\n",
      "O número 93 não é divisível por 7\n",
      "O número 94 não é divisível por 7\n",
      "O número 95 não é divisível por 7\n",
      "O número 96 não é divisível por 7\n",
      "O número 97 não é divisível por 7\n",
      "98\n",
      "O número 99 não é divisível por 7\n"
     ]
    }
   ],
   "source": [
    "for objeto_iterado in range(1,100):\n",
    "    if objeto_iterado%7 == 0:\n",
    "        print(objeto_iterado)\n",
    "    else:\n",
    "        print('O número {} não é divisível por 7'.format(objeto_iterado))"
   ]
  },
  {
   "cell_type": "code",
   "execution_count": 51,
   "metadata": {},
   "outputs": [
    {
     "name": "stdout",
     "output_type": "stream",
     "text": [
      "a igual a b\n"
     ]
    }
   ],
   "source": [
    "a = 5\n",
    "b = 10\n",
    "if a>b:\n",
    "    print('a maior que b')\n",
    "elif a==5: \n",
    "    print('a igual a b')\n",
    "else:\n",
    "    print('b maior que a')"
   ]
  },
  {
   "cell_type": "code",
   "execution_count": 52,
   "metadata": {
    "scrolled": true
   },
   "outputs": [
    {
     "name": "stdout",
     "output_type": "stream",
     "text": [
      "7 dividido por 7 é igual a 1\n",
      "14 dividido por 7 é igual a 2\n",
      "21 dividido por 7 é igual a 3\n",
      "28 dividido por 7 é igual a 4\n",
      "35 dividido por 7 é igual a 5\n",
      "42 dividido por 7 é igual a 6\n",
      "49 dividido por 7 é igual a 7\n",
      "56 dividido por 7 é igual a 8\n",
      "63 dividido por 7 é igual a 9\n",
      "70 dividido por 7 é igual a 10\n",
      "77 dividido por 7 é igual a 11\n",
      "84 dividido por 7 é igual a 12\n",
      "91 dividido por 7 é igual a 13\n",
      "98 dividido por 7 é igual a 14\n"
     ]
    }
   ],
   "source": [
    "for i in range(1,100):\n",
    "    if i%7 == 0:\n",
    "        print('{} dividido por 7 é igual a {}'.format(i, int(i/7)))"
   ]
  },
  {
   "cell_type": "markdown",
   "metadata": {},
   "source": [
    "for + if"
   ]
  },
  {
   "cell_type": "code",
   "execution_count": 53,
   "metadata": {},
   "outputs": [],
   "source": [
    "a = 'string'"
   ]
  },
  {
   "cell_type": "code",
   "execution_count": 54,
   "metadata": {},
   "outputs": [
    {
     "name": "stdout",
     "output_type": "stream",
     "text": [
      "a é uma letra\n",
      "1 é um número\n",
      "b é uma letra\n",
      "c é uma letra\n",
      "d é uma letra\n",
      "e é uma letra\n",
      "2 é um número\n",
      "400 é um número\n",
      "python é uma letra\n"
     ]
    }
   ],
   "source": [
    "for i in ['a', '1', 'b','c','d','e', '2','400','python']:\n",
    "    if i.isnumeric():\n",
    "        print(i, 'é um número')\n",
    "    else:\n",
    "        print(i, 'é uma letra')"
   ]
  },
  {
   "cell_type": "markdown",
   "metadata": {},
   "source": [
    "and"
   ]
  },
  {
   "cell_type": "code",
   "execution_count": 55,
   "metadata": {},
   "outputs": [
    {
     "name": "stdout",
     "output_type": "stream",
     "text": [
      "22\n",
      "24\n",
      "26\n",
      "28\n",
      "30\n",
      "32\n",
      "34\n",
      "36\n",
      "38\n",
      "40\n",
      "42\n",
      "44\n",
      "46\n",
      "48\n",
      "50\n",
      "52\n",
      "54\n",
      "56\n",
      "58\n",
      "60\n",
      "62\n",
      "64\n",
      "66\n",
      "68\n",
      "70\n",
      "72\n",
      "74\n",
      "76\n",
      "78\n",
      "80\n",
      "82\n",
      "84\n",
      "86\n",
      "88\n",
      "90\n",
      "92\n",
      "94\n",
      "96\n",
      "98\n"
     ]
    }
   ],
   "source": [
    "for i in range(1,100):\n",
    "    if i>20 and i%2==0:\n",
    "        print(i)"
   ]
  },
  {
   "cell_type": "markdown",
   "metadata": {},
   "source": [
    "or"
   ]
  },
  {
   "cell_type": "code",
   "execution_count": 56,
   "metadata": {},
   "outputs": [
    {
     "name": "stdout",
     "output_type": "stream",
     "text": [
      "91\n"
     ]
    }
   ],
   "source": [
    "for i in range(1,100):\n",
    "    if i%13==0 and i%7==0:\n",
    "        print(i)"
   ]
  },
  {
   "cell_type": "code",
   "execution_count": 57,
   "metadata": {},
   "outputs": [],
   "source": [
    "lista1 = [1,2,6,10]\n",
    "lista2 = [1,2,5,8,9]"
   ]
  },
  {
   "cell_type": "code",
   "execution_count": 58,
   "metadata": {},
   "outputs": [],
   "source": [
    "lista1 = (1,2,6,10)\n",
    "lista2 = (1,2,5,8,9)"
   ]
  },
  {
   "cell_type": "markdown",
   "metadata": {},
   "source": [
    "not"
   ]
  },
  {
   "cell_type": "code",
   "execution_count": 59,
   "metadata": {},
   "outputs": [
    {
     "name": "stdout",
     "output_type": "stream",
     "text": [
      "6\n",
      "10\n"
     ]
    }
   ],
   "source": [
    "for i in lista1:\n",
    "    if i not in lista2:\n",
    "        print(i)"
   ]
  },
  {
   "cell_type": "code",
   "execution_count": 60,
   "metadata": {},
   "outputs": [
    {
     "data": {
      "text/plain": [
       "True"
      ]
     },
     "execution_count": 60,
     "metadata": {},
     "output_type": "execute_result"
    }
   ],
   "source": [
    "'String'.startswith('S')"
   ]
  },
  {
   "cell_type": "code",
   "execution_count": 61,
   "metadata": {},
   "outputs": [
    {
     "data": {
      "text/plain": [
       "True"
      ]
     },
     "execution_count": 61,
     "metadata": {},
     "output_type": "execute_result"
    }
   ],
   "source": [
    "'Big Data'.startswith('B')"
   ]
  },
  {
   "cell_type": "code",
   "execution_count": 62,
   "metadata": {},
   "outputs": [
    {
     "data": {
      "text/plain": [
       "False"
      ]
     },
     "execution_count": 62,
     "metadata": {},
     "output_type": "execute_result"
    }
   ],
   "source": [
    "'Big Data'.startswith('D')"
   ]
  },
  {
   "cell_type": "markdown",
   "metadata": {},
   "source": [
    "Múltiplas Condições"
   ]
  },
  {
   "cell_type": "code",
   "execution_count": 63,
   "metadata": {},
   "outputs": [
    {
     "name": "stdout",
     "output_type": "stream",
     "text": [
      "o nome começa com E\n",
      "Saí do if\n"
     ]
    }
   ],
   "source": [
    "nome = 'Enzo'\n",
    "\n",
    "if nome.startswith('A'):\n",
    "    print('o nome começa com {}'.format(nome[0]))\n",
    "    print('Estou aqui')\n",
    "elif nome.startswith('E'):\n",
    "    print('o nome começa com {}'.format(nome[0]))\n",
    "elif nome.startswith('I'):\n",
    "    print('o nome começa com {}'.format(nome[0]))\n",
    "elif nome.startswith('O'):\n",
    "    print('o nome começa com {}'.format(nome[0]))\n",
    "elif nome.startswith('U'):\n",
    "    print('o nome começa com {}'.format(nome[0]))\n",
    "else:\n",
    "    print('o nome não começa com nenhuma vogal')\n",
    "print('Saí do if')"
   ]
  },
  {
   "cell_type": "markdown",
   "metadata": {},
   "source": [
    "## List Comprehension"
   ]
  },
  {
   "cell_type": "markdown",
   "metadata": {},
   "source": [
    "Uma list comprehension é uma maneira concisa de construir uma lista preenchida. Um uso comum é construir uma nova lista onde cada elemento é o resultado de alguma expressão aplicada a cada membro de outra sequência ou iterável, ou para construir uma subsequência cujos elementos satisfazem uma certa condição.\n",
    "\n",
    "**É mais rápido porque não é necessário carregar a função append a cada iteração**"
   ]
  },
  {
   "cell_type": "markdown",
   "metadata": {},
   "source": [
    "Ela irá seguir um modelo:  lista = **[\"expressão\" for \"elemento\" in \"sequência\" if \"condição\"]**.\n",
    "\n",
    "Vejamos o código abaixo:"
   ]
  },
  {
   "cell_type": "code",
   "execution_count": 7,
   "metadata": {},
   "outputs": [],
   "source": [
    "cubos = []\n",
    "for elementos in range(10):\n",
    "    cubos.append(elementos**3)"
   ]
  },
  {
   "cell_type": "code",
   "execution_count": 2,
   "metadata": {},
   "outputs": [
    {
     "name": "stdout",
     "output_type": "stream",
     "text": [
      "[0, 1, 8, 27, 64, 125, 216, 343, 512, 729]\n"
     ]
    }
   ],
   "source": [
    "print(cubos)"
   ]
  },
  {
   "cell_type": "markdown",
   "metadata": {},
   "source": [
    "Podemos reescrevê-lo de forma mais concisa utilizando a list comprehension:"
   ]
  },
  {
   "cell_type": "code",
   "execution_count": 3,
   "metadata": {},
   "outputs": [],
   "source": [
    "cubos2 = [elementos**3 for elementos in range(10)]"
   ]
  },
  {
   "cell_type": "code",
   "execution_count": 4,
   "metadata": {},
   "outputs": [
    {
     "name": "stdout",
     "output_type": "stream",
     "text": [
      "[0, 1, 8, 27, 64, 125, 216, 343, 512, 729]\n"
     ]
    }
   ],
   "source": [
    "print(cubos2)"
   ]
  },
  {
   "cell_type": "markdown",
   "metadata": {},
   "source": [
    "A seguir temos mais um exemplo da conversão para a list comprehension:"
   ]
  },
  {
   "cell_type": "code",
   "execution_count": 8,
   "metadata": {},
   "outputs": [
    {
     "name": "stdout",
     "output_type": "stream",
     "text": [
      "156390386\n",
      "0.0013773441314697266\n"
     ]
    }
   ],
   "source": [
    "t0 = time.time()\n",
    "lista = []\n",
    "for x in range(1001):\n",
    "    if x%5==0 or x%3==0:\n",
    "        lista.append(x**2)\n",
    "print(sum(lista))\n",
    "print(time.time() - t0)"
   ]
  },
  {
   "cell_type": "code",
   "execution_count": 9,
   "metadata": {},
   "outputs": [
    {
     "name": "stdout",
     "output_type": "stream",
     "text": [
      "0.0009145736694335938\n"
     ]
    }
   ],
   "source": [
    "t0 = time.time()\n",
    "lc2 = [x**2 for x in range(1001) if x%5==0 or x%3==0]\n",
    "sum(lc2)\n",
    "print(time.time() - t0)"
   ]
  },
  {
   "cell_type": "code",
   "execution_count": 10,
   "metadata": {},
   "outputs": [
    {
     "data": {
      "text/plain": [
       "list"
      ]
     },
     "execution_count": 10,
     "metadata": {},
     "output_type": "execute_result"
    }
   ],
   "source": [
    "type(lc2)"
   ]
  },
  {
   "cell_type": "markdown",
   "metadata": {},
   "source": [
    "Outros exemplos:"
   ]
  },
  {
   "cell_type": "code",
   "execution_count": 11,
   "metadata": {},
   "outputs": [
    {
     "data": {
      "text/plain": [
       "range(0, 11)"
      ]
     },
     "execution_count": 11,
     "metadata": {},
     "output_type": "execute_result"
    }
   ],
   "source": [
    "sequencia = range(11)\n",
    "sequencia"
   ]
  },
  {
   "cell_type": "code",
   "execution_count": 12,
   "metadata": {},
   "outputs": [
    {
     "data": {
      "text/plain": [
       "[0, 1, 2, 3, 4, 5, 6, 7, 8, 9, 10]"
      ]
     },
     "execution_count": 12,
     "metadata": {},
     "output_type": "execute_result"
    }
   ],
   "source": [
    "list(sequencia)"
   ]
  },
  {
   "cell_type": "code",
   "execution_count": 13,
   "metadata": {},
   "outputs": [
    {
     "data": {
      "text/plain": [
       "[0, 4, 16, 36, 64, 100]"
      ]
     },
     "execution_count": 13,
     "metadata": {},
     "output_type": "execute_result"
    }
   ],
   "source": [
    "[elemento**2 for elemento in sequencia if elemento%2==0]"
   ]
  },
  {
   "cell_type": "code",
   "execution_count": 14,
   "metadata": {},
   "outputs": [
    {
     "data": {
      "text/plain": [
       "[13, 14, 11]"
      ]
     },
     "execution_count": 14,
     "metadata": {},
     "output_type": "execute_result"
    }
   ],
   "source": [
    "[x+y for x,y in [(9,4),(8,6),(2,9)]]"
   ]
  },
  {
   "cell_type": "code",
   "execution_count": 25,
   "metadata": {},
   "outputs": [
    {
     "name": "stdout",
     "output_type": "stream",
     "text": [
      "[5, 5, 5, 5]\n",
      "0.0004055500030517578\n"
     ]
    }
   ],
   "source": [
    "t0 = time.time()\n",
    "print([3+2 for numero in range(4)])\n",
    "print(time.time() - t0)"
   ]
  },
  {
   "cell_type": "code",
   "execution_count": 28,
   "metadata": {},
   "outputs": [
    {
     "name": "stdout",
     "output_type": "stream",
     "text": [
      "[5, 5, 5, 5]\n",
      "0.00036072731018066406\n"
     ]
    }
   ],
   "source": [
    "t0 = time.time()\n",
    "print(4 * [5])\n",
    "print(time.time() - t0)"
   ]
  },
  {
   "cell_type": "code",
   "execution_count": 29,
   "metadata": {},
   "outputs": [
    {
     "data": {
      "text/plain": [
       "[5, 9, 8]"
      ]
     },
     "execution_count": 29,
     "metadata": {},
     "output_type": "execute_result"
    }
   ],
   "source": [
    "minha_lista = [x + y for x,y in [(2,3),(4,5),(1,7)]]\n",
    "minha_lista"
   ]
  },
  {
   "cell_type": "code",
   "execution_count": 31,
   "metadata": {},
   "outputs": [
    {
     "data": {
      "text/plain": [
       "[1, 81, 0, 16]"
      ]
     },
     "execution_count": 31,
     "metadata": {},
     "output_type": "execute_result"
    }
   ],
   "source": [
    "lista = [1, \"4\", 9, \"a\", 0, 4]\n",
    "quadrado_inteiros = [i**2 for i in lista if type(i) == int]\n",
    "quadrado_inteiros"
   ]
  },
  {
   "cell_type": "markdown",
   "metadata": {},
   "source": [
    "##### Podemos fazer  uma list comprehension com múltiplos loops:\n",
    "\n",
    "Veja o código a seguir:"
   ]
  },
  {
   "cell_type": "code",
   "execution_count": 32,
   "metadata": {},
   "outputs": [
    {
     "name": "stdout",
     "output_type": "stream",
     "text": [
      "[(1, 3), (1, 4), (1, 5), (2, 3), (2, 4), (2, 5), (3, 4), (3, 5)]\n"
     ]
    }
   ],
   "source": [
    "pontos = []\n",
    "for x in [1,2,3]:\n",
    "    for y in [3,4,5]:\n",
    "        if x != y:\n",
    "            pontos.append((x,y))\n",
    "print(pontos)"
   ]
  },
  {
   "cell_type": "markdown",
   "metadata": {},
   "source": [
    "Podemos reescrevê-lo dessa forma:"
   ]
  },
  {
   "cell_type": "code",
   "execution_count": 33,
   "metadata": {},
   "outputs": [
    {
     "name": "stdout",
     "output_type": "stream",
     "text": [
      "[(1, 3), (1, 4), (1, 5), (2, 3), (2, 4), (2, 5), (3, 4), (3, 5)]\n"
     ]
    }
   ],
   "source": [
    "pontos = [(x,y) for x in [1,2,3] for y in [3,4,5] if x != y] # os loops serão postos, sem separação (somente um espaço), na mesma sequência do código original.\n",
    "print(pontos)"
   ]
  },
  {
   "cell_type": "code",
   "execution_count": null,
   "metadata": {},
   "outputs": [],
   "source": []
  }
 ],
 "metadata": {
  "kernelspec": {
   "display_name": "Python 3",
   "language": "python",
   "name": "python3"
  },
  "language_info": {
   "codemirror_mode": {
    "name": "ipython",
    "version": 3
   },
   "file_extension": ".py",
   "mimetype": "text/x-python",
   "name": "python",
   "nbconvert_exporter": "python",
   "pygments_lexer": "ipython3",
   "version": "3.7.6"
  }
 },
 "nbformat": 4,
 "nbformat_minor": 4
}
